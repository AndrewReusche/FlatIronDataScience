{
 "cells": [
  {
   "cell_type": "code",
   "execution_count": 1,
   "id": "546b0cdc",
   "metadata": {},
   "outputs": [],
   "source": [
    "indices, data = [2,4,6], [11,8,15]\n",
    "zipped = zip(indices, data)"
   ]
  },
  {
   "cell_type": "code",
   "execution_count": 3,
   "id": "5128b998",
   "metadata": {},
   "outputs": [
    {
     "name": "stdout",
     "output_type": "stream",
     "text": [
      "<zip object at 0x105a67400>\n"
     ]
    }
   ],
   "source": [
    "print(zipped)"
   ]
  },
  {
   "cell_type": "code",
   "execution_count": 4,
   "id": "b8e8458d",
   "metadata": {},
   "outputs": [],
   "source": [
    "paired_dict_comp = {x: y for x,y in zipped}"
   ]
  },
  {
   "cell_type": "code",
   "execution_count": 5,
   "id": "d562a786",
   "metadata": {},
   "outputs": [
    {
     "data": {
      "text/plain": [
       "{2: 11, 4: 8, 6: 15}"
      ]
     },
     "execution_count": 5,
     "metadata": {},
     "output_type": "execute_result"
    }
   ],
   "source": [
    "paired_dict_comp\n"
   ]
  },
  {
   "cell_type": "code",
   "execution_count": null,
   "id": "577bd069",
   "metadata": {},
   "outputs": [],
   "source": []
  },
  {
   "cell_type": "code",
   "execution_count": 6,
   "id": "3221376b",
   "metadata": {},
   "outputs": [
    {
     "data": {
      "text/plain": [
       "{1: 33, 2: 24, 3: 45}"
      ]
     },
     "execution_count": 6,
     "metadata": {},
     "output_type": "execute_result"
    }
   ],
   "source": [
    "zipped = zip(indices,data)\n",
    "\n",
    "transformed ={}\n",
    "\n",
    "for x,y in zipped:\n",
    "    transformed[x//2] = 3*y\n",
    "transformed"
   ]
  },
  {
   "cell_type": "markdown",
   "id": "038aed57",
   "metadata": {},
   "source": [
    "## dict comprehension"
   ]
  },
  {
   "cell_type": "code",
   "execution_count": 8,
   "id": "6a38eb7a",
   "metadata": {},
   "outputs": [
    {
     "data": {
      "text/plain": [
       "{1: 33, 2: 24, 3: 45}"
      ]
     },
     "execution_count": 8,
     "metadata": {},
     "output_type": "execute_result"
    }
   ],
   "source": [
    "zipped = zip(indices,data)\n",
    "\n",
    "transformed_dict_comp = {x//2:3*y for x,y in zipped}\n",
    "transformed_dict_comp"
   ]
  },
  {
   "cell_type": "code",
   "execution_count": null,
   "id": "6ff237ae",
   "metadata": {},
   "outputs": [],
   "source": []
  }
 ],
 "metadata": {
  "kernelspec": {
   "display_name": "Python (base1)",
   "language": "python",
   "name": "base1"
  },
  "language_info": {
   "codemirror_mode": {
    "name": "ipython",
    "version": 3
   },
   "file_extension": ".py",
   "mimetype": "text/x-python",
   "name": "python",
   "nbconvert_exporter": "python",
   "pygments_lexer": "ipython3",
   "version": "3.11.5"
  }
 },
 "nbformat": 4,
 "nbformat_minor": 5
}
